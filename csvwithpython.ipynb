{
 "cells": [
  {
   "cell_type": "code",
   "execution_count": 1,
   "source": [
    "import csv\r\n",
    "import os"
   ],
   "outputs": [],
   "metadata": {}
  },
  {
   "cell_type": "code",
   "execution_count": 2,
   "source": [
    "filename = 'diabetes.csv'"
   ],
   "outputs": [],
   "metadata": {}
  },
  {
   "cell_type": "code",
   "execution_count": 3,
   "source": [
    "os.getcwd()"
   ],
   "outputs": [
    {
     "output_type": "execute_result",
     "data": {
      "text/plain": [
       "'c:\\\\Users\\\\herturk\\\\OneDrive - Managed Network Solutions Inc\\\\Desktop\\\\Training'"
      ]
     },
     "metadata": {},
     "execution_count": 3
    }
   ],
   "metadata": {}
  },
  {
   "cell_type": "code",
   "execution_count": 4,
   "source": [
    "os.chdir('c:\\\\Users\\\\herturk\\\\OneDrive - Managed Network Solutions Inc\\\\Desktop')"
   ],
   "outputs": [],
   "metadata": {}
  },
  {
   "cell_type": "code",
   "execution_count": 16,
   "source": [
    "fields = []\r\n",
    "rows = []\r\n",
    "\r\n",
    "with open (filename, 'r') as csvfile:\r\n",
    "    csvreader = csv.reader(csvfile)\r\n",
    "\r\n",
    "    for row in csvreader:\r\n",
    "        print(row[0][:], end=' ')\r\n"
   ],
   "outputs": [
    {
     "output_type": "stream",
     "name": "stdout",
     "text": [
      "Pregnancies 6 1 8 1 0 5 3 10 2 8 4 10 10 1 5 7 0 7 1 1 3 8 7 9 11 10 7 1 13 5 5 3 3 6 10 4 11 9 2 4 3 7 7 9 7 0 1 2 7 7 1 1 5 8 7 1 7 0 0 0 2 8 5 2 7 5 0 2 1 4 2 5 13 4 1 1 7 5 0 2 3 2 7 0 5 2 13 2 15 1 1 4 7 4 2 6 2 1 6 1 1 1 0 1 2 1 1 4 3 0 3 8 1 4 7 4 5 5 4 4 0 6 2 5 0 1 3 1 1 0 4 9 3 8 2 2 0 0 0 5 3 5 2 10 4 0 9 2 5 2 1 4 9 1 8 7 2 1 2 17 4 7 0 2 0 6 3 4 4 3 6 6 2 1 2 8 6 0 5 5 6 0 1 5 4 7 8 1 8 5 3 9 7 11 8 5 1 3 4 4 0 1 0 2 6 5 8 5 1 7 2 0 7 0 9 12 5 6 5 5 0 2 7 7 1 1 0 3 4 0 4 6 1 4 3 4 7 0 9 0 1 4 3 6 2 9 10 0 9 1 9 2 2 0 12 1 3 2 1 11 3 3 4 3 4 5 0 2 0 2 10 2 3 1 13 2 7 0 5 2 0 10 7 7 2 7 5 1 4 5 0 0 2 1 0 6 2 0 14 8 0 2 5 5 3 2 10 0 0 2 6 0 2 3 7 2 3 3 3 6 4 3 0 13 2 1 1 10 2 6 8 2 1 12 1 0 0 5 9 7 1 1 1 5 8 8 1 3 3 5 4 4 3 1 3 9 1 13 12 1 5 5 5 4 4 5 6 0 3 1 3 0 0 2 2 12 0 1 4 0 1 0 1 1 1 1 5 8 5 3 1 5 1 4 4 2 3 0 3 3 4 6 5 9 5 2 4 0 8 1 6 1 1 1 0 3 1 4 1 3 1 2 0 2 8 4 0 1 0 1 2 3 1 2 1 0 12 5 1 6 0 2 4 8 4 0 1 0 0 0 1 2 0 2 2 14 1 5 10 9 9 1 8 5 10 0 0 0 8 6 1 0 0 7 4 0 2 7 8 4 3 0 4 0 0 0 1 0 4 8 2 2 4 4 3 6 5 2 7 6 2 3 6 7 3 10 0 1 2 8 12 0 9 2 3 3 9 7 13 6 2 3 6 9 3 3 1 3 0 0 2 0 1 6 1 4 0 0 0 3 8 3 10 4 1 8 5 4 1 4 1 3 6 1 1 7 1 8 11 11 6 0 1 6 0 2 1 6 4 0 3 2 3 2 1 1 6 2 10 2 0 6 12 8 8 1 8 6 3 0 11 2 3 2 6 0 0 1 1 1 1 6 1 7 4 1 1 1 0 1 3 3 7 6 11 3 6 2 9 0 2 2 6 0 2 4 0 0 5 4 7 0 2 1 10 13 5 2 7 1 0 4 6 4 3 2 1 0 11 0 1 1 5 2 1 2 2 1 11 3 10 1 8 9 6 1 4 10 6 9 6 1 10 3 8 6 9 0 3 2 2 0 0 4 5 2 3 1 1 1 8 13 2 7 2 7 3 0 4 4 2 6 1 2 4 6 10 2 9 2 3 5 10 0 3 7 3 10 1 5 4 1 1 5 1 4 1 0 2 2 3 8 2 2 2 4 0 8 2 1 11 3 1 9 13 12 1 1 3 6 4 1 3 0 8 1 7 0 1 6 2 9 9 10 2 5 1 1 "
     ]
    }
   ],
   "metadata": {}
  },
  {
   "cell_type": "code",
   "execution_count": 17,
   "source": [
    "print(csvreader.line_num)"
   ],
   "outputs": [
    {
     "output_type": "stream",
     "name": "stdout",
     "text": [
      "769\n"
     ]
    }
   ],
   "metadata": {}
  }
 ],
 "metadata": {
  "orig_nbformat": 4,
  "language_info": {
   "name": "python",
   "version": "3.8.3",
   "mimetype": "text/x-python",
   "codemirror_mode": {
    "name": "ipython",
    "version": 3
   },
   "pygments_lexer": "ipython3",
   "nbconvert_exporter": "python",
   "file_extension": ".py"
  },
  "kernelspec": {
   "name": "python3",
   "display_name": "Python 3.8.3 64-bit ('base': conda)"
  },
  "interpreter": {
   "hash": "46182d5f787c7496ac3d2ccd0c5d8bf41bffd3ac5e5e93146af501a7f382c533"
  }
 },
 "nbformat": 4,
 "nbformat_minor": 2
}